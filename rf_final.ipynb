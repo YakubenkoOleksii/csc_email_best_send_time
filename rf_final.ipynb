{
 "cells": [
  {
   "cell_type": "code",
   "execution_count": 1,
   "metadata": {},
   "outputs": [],
   "source": [
    "import pandas as pd\n",
    "import numpy as np\n",
    "from datetime import timedelta "
   ]
  },
  {
   "cell_type": "markdown",
   "metadata": {},
   "source": [
    "# Load Data"
   ]
  },
  {
   "cell_type": "code",
   "execution_count": 2,
   "metadata": {},
   "outputs": [],
   "source": [
    "test = pd.read_csv('data/email_best_send_time_test.csv')\n",
    "train = pd.read_csv('data/email_best_send_time_train.csv')\n",
    "\n",
    "train_clean_text = pd.read_csv('train_clean_subject.csv').fillna('')\n",
    "test_clean_text = pd.read_csv('test_clean_subject.csv').fillna('')\n",
    "train = train.merge(train_clean_text, 'left', on='MailID')\n",
    "test = test.merge(test_clean_text, 'left', on='MailID')"
   ]
  },
  {
   "cell_type": "code",
   "execution_count": 3,
   "metadata": {},
   "outputs": [
    {
     "data": {
      "text/html": [
       "<div>\n",
       "<style scoped>\n",
       "    .dataframe tbody tr th:only-of-type {\n",
       "        vertical-align: middle;\n",
       "    }\n",
       "\n",
       "    .dataframe tbody tr th {\n",
       "        vertical-align: top;\n",
       "    }\n",
       "\n",
       "    .dataframe thead th {\n",
       "        text-align: right;\n",
       "    }\n",
       "</style>\n",
       "<table border=\"1\" class=\"dataframe\">\n",
       "  <thead>\n",
       "    <tr style=\"text-align: right;\">\n",
       "      <th></th>\n",
       "      <th>MailID</th>\n",
       "      <th>Subject</th>\n",
       "      <th>MailBoxID</th>\n",
       "      <th>ContactID</th>\n",
       "      <th>TimeZone</th>\n",
       "      <th>SentOn</th>\n",
       "      <th>Opened</th>\n",
       "      <th>subject_re</th>\n",
       "      <th>clean_subject</th>\n",
       "      <th>super_clean_subject</th>\n",
       "    </tr>\n",
       "  </thead>\n",
       "  <tbody>\n",
       "    <tr>\n",
       "      <th>0</th>\n",
       "      <td>C278C72C-63D6-4D42-B5A6-455FA2C80D7C</td>\n",
       "      <td>\"Cold emails not converting?\"</td>\n",
       "      <td>9F1BAD1D-0370-4200-0045-08D70B884EBA</td>\n",
       "      <td>8977EFF2-DCAD-4E29-B29C-BE55449D24A2</td>\n",
       "      <td>\"(UTC+00:00) Dublin, Edinburgh, Lisbon, London\"</td>\n",
       "      <td>9/9/20 11:34</td>\n",
       "      <td>0</td>\n",
       "      <td>False</td>\n",
       "      <td>Cold emails not converting?</td>\n",
       "      <td>coldemailsnotconverting</td>\n",
       "    </tr>\n",
       "    <tr>\n",
       "      <th>1</th>\n",
       "      <td>F5CA7090-9A73-4197-9923-C094B140C4D1</td>\n",
       "      <td>\"Webnar: Cold emails not converting?\"</td>\n",
       "      <td>7FCE4E75-9A26-4EE6-7806-08D6CEFA3BFA</td>\n",
       "      <td>22A565BC-DC52-4CF5-8852-5C343F477F54</td>\n",
       "      <td>\"(UTC-06:00) Central Time (US &amp; Canada)\"</td>\n",
       "      <td>9/9/20 11:35</td>\n",
       "      <td>0</td>\n",
       "      <td>False</td>\n",
       "      <td>Webnar: Cold emails not converting?</td>\n",
       "      <td>webnarcoldemailsnotconverting</td>\n",
       "    </tr>\n",
       "    <tr>\n",
       "      <th>2</th>\n",
       "      <td>B4837C83-9425-4C77-907E-E3B318A5F0F0</td>\n",
       "      <td>\"Cold emails not converting?\"</td>\n",
       "      <td>9F1BAD1D-0370-4200-0045-08D70B884EBA</td>\n",
       "      <td>00E3A137-053F-4838-AB6F-4A8F6F52969A</td>\n",
       "      <td>\"(UTC+00:00) Dublin, Edinburgh, Lisbon, London\"</td>\n",
       "      <td>9/9/20 11:38</td>\n",
       "      <td>0</td>\n",
       "      <td>False</td>\n",
       "      <td>Cold emails not converting?</td>\n",
       "      <td>coldemailsnotconverting</td>\n",
       "    </tr>\n",
       "    <tr>\n",
       "      <th>3</th>\n",
       "      <td>204546C3-073D-418E-98BD-E5553B339686</td>\n",
       "      <td>\"Webnar: Cold emails not converting?\"</td>\n",
       "      <td>7FCE4E75-9A26-4EE6-7806-08D6CEFA3BFA</td>\n",
       "      <td>9A13D123-10AA-46BF-B5C9-7199074DDD71</td>\n",
       "      <td>\"(UTC-05:00) Eastern Time (US &amp; Canada)\"</td>\n",
       "      <td>9/9/20 11:40</td>\n",
       "      <td>0</td>\n",
       "      <td>False</td>\n",
       "      <td>Webnar: Cold emails not converting?</td>\n",
       "      <td>webnarcoldemailsnotconverting</td>\n",
       "    </tr>\n",
       "    <tr>\n",
       "      <th>4</th>\n",
       "      <td>F28E3C17-0000-4549-9153-5896688E7581</td>\n",
       "      <td>\"Webnar: Cold emails not converting?\"</td>\n",
       "      <td>7FCE4E75-9A26-4EE6-7806-08D6CEFA3BFA</td>\n",
       "      <td>FA770B61-2BB3-44EB-A064-0F80CAD8E753</td>\n",
       "      <td>\"(UTC-06:00) Central Time (US &amp; Canada)\"</td>\n",
       "      <td>9/9/20 11:43</td>\n",
       "      <td>0</td>\n",
       "      <td>False</td>\n",
       "      <td>Webnar: Cold emails not converting?</td>\n",
       "      <td>webnarcoldemailsnotconverting</td>\n",
       "    </tr>\n",
       "    <tr>\n",
       "      <th>...</th>\n",
       "      <td>...</td>\n",
       "      <td>...</td>\n",
       "      <td>...</td>\n",
       "      <td>...</td>\n",
       "      <td>...</td>\n",
       "      <td>...</td>\n",
       "      <td>...</td>\n",
       "      <td>...</td>\n",
       "      <td>...</td>\n",
       "      <td>...</td>\n",
       "    </tr>\n",
       "    <tr>\n",
       "      <th>100139</th>\n",
       "      <td>2EA3A30E-D8DB-44E3-A8B3-CA7D9BA2633C</td>\n",
       "      <td>\"RE: Revenue Inbox | Sync integration for Sale...</td>\n",
       "      <td>FBCA1245-7297-41A8-1AB0-08D7856F3B8E</td>\n",
       "      <td>FEB418B4-D3FF-4B84-8703-E8A71478C11C</td>\n",
       "      <td>\"(UTC+00:00) Dublin, Edinburgh, Lisbon, London\"</td>\n",
       "      <td>7/1/21 11:48</td>\n",
       "      <td>1</td>\n",
       "      <td>True</td>\n",
       "      <td>Revenue Inbox | Sync integration for Salesforce</td>\n",
       "      <td>revenueinboxsyncintegrationfor</td>\n",
       "    </tr>\n",
       "    <tr>\n",
       "      <th>100140</th>\n",
       "      <td>114E23DD-5386-40FA-B7C8-AFD80628FE4D</td>\n",
       "      <td>\"RE: Hi Jeffrey!\"</td>\n",
       "      <td>2B68B3E2-ADF7-4D0F-8F59-645C8CDF6EA6</td>\n",
       "      <td>748DFA05-47E9-4FB8-9EA3-0B5619CD6CB6</td>\n",
       "      <td>\"(UTC-05:00) Eastern Time (US &amp; Canada)\"</td>\n",
       "      <td>7/1/21 11:48</td>\n",
       "      <td>0</td>\n",
       "      <td>True</td>\n",
       "      <td>Hi PERSON!</td>\n",
       "      <td>hiperson</td>\n",
       "    </tr>\n",
       "    <tr>\n",
       "      <th>100141</th>\n",
       "      <td>6EE9027F-E9E5-476C-B1F4-F9A6433B5DDF</td>\n",
       "      <td>\"testy test\"</td>\n",
       "      <td>66C24EAB-51C7-4B5F-EFCA-08D6D3CCF2FF</td>\n",
       "      <td>E315C9A4-E5C4-484F-9278-6347BE3C2CD1</td>\n",
       "      <td>NaN</td>\n",
       "      <td>7/1/21 11:55</td>\n",
       "      <td>0</td>\n",
       "      <td>False</td>\n",
       "      <td>testy test</td>\n",
       "      <td>testytest</td>\n",
       "    </tr>\n",
       "    <tr>\n",
       "      <th>100142</th>\n",
       "      <td>DE170985-95AB-47B6-A077-B7B4BD6C6FF3</td>\n",
       "      <td>\"RE: Charlotte, thanks for signing up to Reven...</td>\n",
       "      <td>FBCA1245-7297-41A8-1AB0-08D7856F3B8E</td>\n",
       "      <td>793680C5-DDFD-41A8-9194-61B1AFC9D9F2</td>\n",
       "      <td>\"(UTC+00:00) Dublin, Edinburgh, Lisbon, London\"</td>\n",
       "      <td>7/1/21 11:55</td>\n",
       "      <td>0</td>\n",
       "      <td>True</td>\n",
       "      <td>PERSON, thanks for signing up to Revenue Inbox</td>\n",
       "      <td>personthanksforsigninguptoreve</td>\n",
       "    </tr>\n",
       "    <tr>\n",
       "      <th>100143</th>\n",
       "      <td>980A56CD-3649-4369-9497-A1D44AA73550</td>\n",
       "      <td>\"Michael, thank you for your interest in Reven...</td>\n",
       "      <td>66BCC422-78B0-4AE2-9D97-CACD6E60CC00</td>\n",
       "      <td>74E02258-2284-4856-BDE9-C493951FB555</td>\n",
       "      <td>\"(UTC-05:00) Eastern Time (US &amp; Canada)\"</td>\n",
       "      <td>7/1/21 12:01</td>\n",
       "      <td>0</td>\n",
       "      <td>False</td>\n",
       "      <td>PERSON, thank you for your interest in Revenue...</td>\n",
       "      <td>personthankyouforyourinteresti</td>\n",
       "    </tr>\n",
       "  </tbody>\n",
       "</table>\n",
       "<p>100144 rows × 10 columns</p>\n",
       "</div>"
      ],
      "text/plain": [
       "                                      MailID  \\\n",
       "0       C278C72C-63D6-4D42-B5A6-455FA2C80D7C   \n",
       "1       F5CA7090-9A73-4197-9923-C094B140C4D1   \n",
       "2       B4837C83-9425-4C77-907E-E3B318A5F0F0   \n",
       "3       204546C3-073D-418E-98BD-E5553B339686   \n",
       "4       F28E3C17-0000-4549-9153-5896688E7581   \n",
       "...                                      ...   \n",
       "100139  2EA3A30E-D8DB-44E3-A8B3-CA7D9BA2633C   \n",
       "100140  114E23DD-5386-40FA-B7C8-AFD80628FE4D   \n",
       "100141  6EE9027F-E9E5-476C-B1F4-F9A6433B5DDF   \n",
       "100142  DE170985-95AB-47B6-A077-B7B4BD6C6FF3   \n",
       "100143  980A56CD-3649-4369-9497-A1D44AA73550   \n",
       "\n",
       "                                                  Subject  \\\n",
       "0                           \"Cold emails not converting?\"   \n",
       "1                   \"Webnar: Cold emails not converting?\"   \n",
       "2                           \"Cold emails not converting?\"   \n",
       "3                   \"Webnar: Cold emails not converting?\"   \n",
       "4                   \"Webnar: Cold emails not converting?\"   \n",
       "...                                                   ...   \n",
       "100139  \"RE: Revenue Inbox | Sync integration for Sale...   \n",
       "100140                                  \"RE: Hi Jeffrey!\"   \n",
       "100141                                       \"testy test\"   \n",
       "100142  \"RE: Charlotte, thanks for signing up to Reven...   \n",
       "100143  \"Michael, thank you for your interest in Reven...   \n",
       "\n",
       "                                   MailBoxID  \\\n",
       "0       9F1BAD1D-0370-4200-0045-08D70B884EBA   \n",
       "1       7FCE4E75-9A26-4EE6-7806-08D6CEFA3BFA   \n",
       "2       9F1BAD1D-0370-4200-0045-08D70B884EBA   \n",
       "3       7FCE4E75-9A26-4EE6-7806-08D6CEFA3BFA   \n",
       "4       7FCE4E75-9A26-4EE6-7806-08D6CEFA3BFA   \n",
       "...                                      ...   \n",
       "100139  FBCA1245-7297-41A8-1AB0-08D7856F3B8E   \n",
       "100140  2B68B3E2-ADF7-4D0F-8F59-645C8CDF6EA6   \n",
       "100141  66C24EAB-51C7-4B5F-EFCA-08D6D3CCF2FF   \n",
       "100142  FBCA1245-7297-41A8-1AB0-08D7856F3B8E   \n",
       "100143  66BCC422-78B0-4AE2-9D97-CACD6E60CC00   \n",
       "\n",
       "                                   ContactID  \\\n",
       "0       8977EFF2-DCAD-4E29-B29C-BE55449D24A2   \n",
       "1       22A565BC-DC52-4CF5-8852-5C343F477F54   \n",
       "2       00E3A137-053F-4838-AB6F-4A8F6F52969A   \n",
       "3       9A13D123-10AA-46BF-B5C9-7199074DDD71   \n",
       "4       FA770B61-2BB3-44EB-A064-0F80CAD8E753   \n",
       "...                                      ...   \n",
       "100139  FEB418B4-D3FF-4B84-8703-E8A71478C11C   \n",
       "100140  748DFA05-47E9-4FB8-9EA3-0B5619CD6CB6   \n",
       "100141  E315C9A4-E5C4-484F-9278-6347BE3C2CD1   \n",
       "100142  793680C5-DDFD-41A8-9194-61B1AFC9D9F2   \n",
       "100143  74E02258-2284-4856-BDE9-C493951FB555   \n",
       "\n",
       "                                               TimeZone        SentOn  Opened  \\\n",
       "0       \"(UTC+00:00) Dublin, Edinburgh, Lisbon, London\"  9/9/20 11:34       0   \n",
       "1              \"(UTC-06:00) Central Time (US & Canada)\"  9/9/20 11:35       0   \n",
       "2       \"(UTC+00:00) Dublin, Edinburgh, Lisbon, London\"  9/9/20 11:38       0   \n",
       "3              \"(UTC-05:00) Eastern Time (US & Canada)\"  9/9/20 11:40       0   \n",
       "4              \"(UTC-06:00) Central Time (US & Canada)\"  9/9/20 11:43       0   \n",
       "...                                                 ...           ...     ...   \n",
       "100139  \"(UTC+00:00) Dublin, Edinburgh, Lisbon, London\"  7/1/21 11:48       1   \n",
       "100140         \"(UTC-05:00) Eastern Time (US & Canada)\"  7/1/21 11:48       0   \n",
       "100141                                              NaN  7/1/21 11:55       0   \n",
       "100142  \"(UTC+00:00) Dublin, Edinburgh, Lisbon, London\"  7/1/21 11:55       0   \n",
       "100143         \"(UTC-05:00) Eastern Time (US & Canada)\"  7/1/21 12:01       0   \n",
       "\n",
       "        subject_re                                      clean_subject  \\\n",
       "0            False                        Cold emails not converting?   \n",
       "1            False                Webnar: Cold emails not converting?   \n",
       "2            False                        Cold emails not converting?   \n",
       "3            False                Webnar: Cold emails not converting?   \n",
       "4            False                Webnar: Cold emails not converting?   \n",
       "...            ...                                                ...   \n",
       "100139        True    Revenue Inbox | Sync integration for Salesforce   \n",
       "100140        True                                         Hi PERSON!   \n",
       "100141       False                                         testy test   \n",
       "100142        True     PERSON, thanks for signing up to Revenue Inbox   \n",
       "100143       False  PERSON, thank you for your interest in Revenue...   \n",
       "\n",
       "                   super_clean_subject  \n",
       "0              coldemailsnotconverting  \n",
       "1        webnarcoldemailsnotconverting  \n",
       "2              coldemailsnotconverting  \n",
       "3        webnarcoldemailsnotconverting  \n",
       "4        webnarcoldemailsnotconverting  \n",
       "...                                ...  \n",
       "100139  revenueinboxsyncintegrationfor  \n",
       "100140                        hiperson  \n",
       "100141                       testytest  \n",
       "100142  personthanksforsigninguptoreve  \n",
       "100143  personthankyouforyourinteresti  \n",
       "\n",
       "[100144 rows x 10 columns]"
      ]
     },
     "execution_count": 3,
     "metadata": {},
     "output_type": "execute_result"
    }
   ],
   "source": [
    "train"
   ]
  },
  {
   "cell_type": "markdown",
   "metadata": {},
   "source": [
    "# Preprocessing + Feature"
   ]
  },
  {
   "cell_type": "markdown",
   "metadata": {},
   "source": [
    "### fix dtype"
   ]
  },
  {
   "cell_type": "code",
   "execution_count": 4,
   "metadata": {},
   "outputs": [],
   "source": [
    "def fix_dtype_df(df):\n",
    "    df['SentOn'] = pd.to_datetime(df['SentOn'])\n",
    "    df.loc[df['TimeZone'].notna(), 'TimeZone'] = df.loc[df['TimeZone'].notna(), 'TimeZone'].apply(lambda x: x[5:8]).astype(float)\n",
    "    return df"
   ]
  },
  {
   "cell_type": "markdown",
   "metadata": {},
   "source": [
    "### time features"
   ]
  },
  {
   "cell_type": "code",
   "execution_count": 5,
   "metadata": {},
   "outputs": [],
   "source": [
    "def add_time_feature(df):\n",
    "    df['receive_on'] = df['SentOn'] + pd.to_timedelta(df['TimeZone'].fillna(0), unit='hour')\n",
    "    df['receive_on_hour'] = df['receive_on'].dt.hour.astype(np.int8)\n",
    "    df['receive_on_weekday'] = df['receive_on'].dt.weekday.astype(np.int8)\n",
    "    df['receive_on_month'] = df['receive_on'].dt.month.astype(np.int8)\n",
    "    df['TimeZone'] = df['TimeZone'].fillna(25)\n",
    "    return df"
   ]
  },
  {
   "cell_type": "markdown",
   "metadata": {},
   "source": [
    "### text features"
   ]
  },
  {
   "cell_type": "code",
   "execution_count": 6,
   "metadata": {},
   "outputs": [],
   "source": [
    "def add_text_feature(df):\n",
    "    df['len_subject'] = df['Subject'].apply(len)\n",
    "    df['len_clean_subject'] = df['super_clean_subject'].apply(len)\n",
    "    df['len_super_clean_subject'] = df['super_clean_subject'].apply(len)\n",
    "\n",
    "    df['subject_person']  = df['clean_subject'].str.contains('PERSON')\n",
    "    df['subject_company']  = df['clean_subject'].str.contains('_COMPANY_')\n",
    "    df['subject_revenue_grid']  = df['clean_subject'].str.lower().str.contains(r'revenue ?grid', regex=True)\n",
    "    df['subject_salesforce']  = df['clean_subject'].str.lower().str.contains('salesforce')\n",
    "    df['subject_revenue_inbox']  = df['clean_subject'].str.lower().str.contains('revenue inbox')\n",
    "    return df"
   ]
  },
  {
   "cell_type": "markdown",
   "metadata": {},
   "source": [
    "### add features"
   ]
  },
  {
   "cell_type": "code",
   "execution_count": 7,
   "metadata": {},
   "outputs": [],
   "source": [
    "train = fix_dtype_df(train)\n",
    "train = add_time_feature(train)\n",
    "train = add_text_feature(train)\n",
    "\n",
    "test = fix_dtype_df(test)\n",
    "test = add_time_feature(test)\n",
    "test = add_text_feature(test)"
   ]
  },
  {
   "cell_type": "markdown",
   "metadata": {},
   "source": [
    "# OOF Mean traget by column prediction as feature"
   ]
  },
  {
   "cell_type": "code",
   "execution_count": 8,
   "metadata": {},
   "outputs": [],
   "source": [
    "from sklearn.model_selection import StratifiedKFold\n",
    "\n",
    "cv = StratifiedKFold(n_splits=7, shuffle=True, random_state=42)"
   ]
  },
  {
   "cell_type": "code",
   "execution_count": 9,
   "metadata": {},
   "outputs": [],
   "source": [
    "oof_pred_list = [['ContactID'],\n",
    "                 ['Subject'],\n",
    "                 ['clean_subject'],\n",
    "                 ['ContactID', 'MailBoxID'],\n",
    "                 ['ContactID', 'Subject'],\n",
    "                 ['ContactID', 'clean_subject'],\n",
    "                 ['ContactID', 'receive_on_hour'],\n",
    "                 ['ContactID', 'receive_on_weekday'],\n",
    "                 ['ContactID', 'receive_on_month'],\n",
    "                 \n",
    "                 ['MailBoxID', 'Subject'],\n",
    "                 ['MailBoxID', 'clean_subject'],\n",
    "                 ['MailBoxID', 'receive_on_hour'],\n",
    "                 ['MailBoxID', 'receive_on_weekday'],\n",
    "                 ['MailBoxID', 'receive_on_month'],\n",
    "                 \n",
    "                 ['Subject', 'receive_on_hour'],\n",
    "                 ['Subject', 'receive_on_weekday'],\n",
    "                 ['Subject', 'receive_on_month'],\n",
    "                 \n",
    "                 ['clean_subject', 'receive_on_hour'],\n",
    "                 ['clean_subject', 'receive_on_weekday'],\n",
    "                 ['clean_subject', 'receive_on_month'],\n",
    "                ]"
   ]
  },
  {
   "cell_type": "code",
   "execution_count": 10,
   "metadata": {},
   "outputs": [],
   "source": [
    "for cols in oof_pred_list:\n",
    "    new_col = 'oof_mean_'+'__'.join(cols)\n",
    "    train[new_col] = train[cols].astype(str).apply('__'.join, axis=1)\n",
    "    test[new_col] = test[cols].astype(str).apply('__'.join, axis=1)\n",
    "    \n",
    "    col2target = train.groupby(new_col)['Opened'].mean()\n",
    "    test[new_col] = test[new_col].map(col2target).fillna(-1)\n",
    "    \n",
    "    oof_meen_prediction = pd.Series(index=train.index, dtype=float)\n",
    "    for train_idx, val_idx in cv.split(train, train['Opened']):\n",
    "        fold_train = train.iloc[train_idx]\n",
    "        fold_val = train.iloc[val_idx]\n",
    "        fold_col2target = fold_train.groupby(new_col)['Opened'].mean()\n",
    "        fold_prediction = fold_val[new_col].map(fold_col2target).fillna(-1)\n",
    "        oof_meen_prediction.iloc[val_idx] = fold_prediction\n",
    "    \n",
    "    train[new_col] = oof_meen_prediction.round(2)"
   ]
  },
  {
   "cell_type": "markdown",
   "metadata": {},
   "source": [
    "# X, y"
   ]
  },
  {
   "cell_type": "code",
   "execution_count": 11,
   "metadata": {},
   "outputs": [],
   "source": [
    "train_cols = ['TimeZone',\n",
    "              'receive_on_hour', 'receive_on_weekday', 'receive_on_month',\n",
    "              'len_subject', 'len_clean_subject', 'len_super_clean_subject', \n",
    "              'subject_re', 'subject_person', 'subject_company', 'subject_revenue_grid', 'subject_salesforce', 'subject_revenue_inbox', \n",
    "              'oof_mean_Subject', 'oof_mean_clean_subject', 'oof_mean_ContactID__MailBoxID', 'oof_mean_ContactID__Subject', 'oof_mean_ContactID__clean_subject',\n",
    "              'oof_mean_ContactID__receive_on_hour', 'oof_mean_ContactID__receive_on_weekday', 'oof_mean_ContactID__receive_on_month', 'oof_mean_MailBoxID__Subject',\n",
    "              'oof_mean_MailBoxID__clean_subject', 'oof_mean_MailBoxID__receive_on_hour', 'oof_mean_MailBoxID__receive_on_weekday', 'oof_mean_MailBoxID__receive_on_month',\n",
    "              'oof_mean_Subject__receive_on_hour', 'oof_mean_Subject__receive_on_weekday', 'oof_mean_Subject__receive_on_month', 'oof_mean_clean_subject__receive_on_hour',\n",
    "              'oof_mean_clean_subject__receive_on_weekday', 'oof_mean_clean_subject__receive_on_month']\n",
    "\n",
    "X = train[train_cols]\n",
    "y = train['Opened']\n",
    "\n",
    "X_test = test[train_cols]"
   ]
  },
  {
   "cell_type": "markdown",
   "metadata": {},
   "source": [
    "# Validation"
   ]
  },
  {
   "cell_type": "code",
   "execution_count": 12,
   "metadata": {},
   "outputs": [],
   "source": [
    "from sklearn.ensemble import RandomForestClassifier\n",
    "from sklearn.model_selection import cross_val_predict\n",
    "from sklearn.metrics import f1_score\n",
    "\n",
    "\n",
    "def f1(true, pred, n=100):\n",
    "    score = []\n",
    "    for i in range(1, n):\n",
    "        treshold = i/n\n",
    "        score.append(f1_score(true, pred> treshold))\n",
    "\n",
    "    treshold_i = np.argmax(score)\n",
    "    return score[treshold_i], treshold_i/n"
   ]
  },
  {
   "cell_type": "code",
   "execution_count": 13,
   "metadata": {},
   "outputs": [
    {
     "data": {
      "text/plain": [
       "(0.7579478082255731, 0.38)"
      ]
     },
     "execution_count": 13,
     "metadata": {},
     "output_type": "execute_result"
    }
   ],
   "source": [
    "model = RandomForestClassifier(max_leaf_nodes=1024, max_features=0.4, min_samples_leaf=2, min_samples_split=5, max_depth=32, random_state=42)\n",
    "pred_model = cross_val_predict(model, X, y, cv=cv, n_jobs=-1, method='predict_proba')[:,1]\n",
    "pred_model = pd.Series(pred_model, train.index)\n",
    "score, treshold = f1(y, pred_model)\n",
    "score, treshold"
   ]
  },
  {
   "cell_type": "markdown",
   "metadata": {},
   "source": [
    "# Prediction"
   ]
  },
  {
   "cell_type": "code",
   "execution_count": 14,
   "metadata": {},
   "outputs": [],
   "source": [
    "model.n_estimators = 1000\n",
    "model.n_jobs = -1\n",
    "model.fit(X, y)\n",
    "prediction = model.predict_proba(X_test)[:,1]"
   ]
  },
  {
   "cell_type": "code",
   "execution_count": 15,
   "metadata": {},
   "outputs": [
    {
     "data": {
      "image/png": "[encoded data removed]",
      "text/plain": [
       "<Figure size 1152x432 with 1 Axes>"
      ]
     },
     "metadata": {
      "needs_background": "light"
     },
     "output_type": "display_data"
    }
   ],
   "source": [
    "pd.Series(prediction).hist(bins=100, figsize=(16, 6));"
   ]
  },
  {
   "cell_type": "code",
   "execution_count": 16,
   "metadata": {},
   "outputs": [
    {
     "data": {
      "text/html": [
       "<div>\n",
       "<style scoped>\n",
       "    .dataframe tbody tr th:only-of-type {\n",
       "        vertical-align: middle;\n",
       "    }\n",
       "\n",
       "    .dataframe tbody tr th {\n",
       "        vertical-align: top;\n",
       "    }\n",
       "\n",
       "    .dataframe thead th {\n",
       "        text-align: right;\n",
       "    }\n",
       "</style>\n",
       "<table border=\"1\" class=\"dataframe\">\n",
       "  <thead>\n",
       "    <tr style=\"text-align: right;\">\n",
       "      <th></th>\n",
       "      <th>MailID</th>\n",
       "      <th>Opened</th>\n",
       "    </tr>\n",
       "  </thead>\n",
       "  <tbody>\n",
       "    <tr>\n",
       "      <th>0</th>\n",
       "      <td>43F37954-24F6-4F2E-BEC7-B6F0103307A0</td>\n",
       "      <td>0</td>\n",
       "    </tr>\n",
       "    <tr>\n",
       "      <th>1</th>\n",
       "      <td>1CCDF694-BB52-4EB4-8C5A-669BB4D0339E</td>\n",
       "      <td>0</td>\n",
       "    </tr>\n",
       "    <tr>\n",
       "      <th>2</th>\n",
       "      <td>EDC436A8-B8B0-4B57-B003-54FF51C09E82</td>\n",
       "      <td>0</td>\n",
       "    </tr>\n",
       "    <tr>\n",
       "      <th>3</th>\n",
       "      <td>27378C7B-B5EB-4E48-93ED-EE2F16B83DB8</td>\n",
       "      <td>0</td>\n",
       "    </tr>\n",
       "    <tr>\n",
       "      <th>4</th>\n",
       "      <td>6F5CC7DC-BDA8-4FCB-992C-1550C8C6DFC1</td>\n",
       "      <td>0</td>\n",
       "    </tr>\n",
       "    <tr>\n",
       "      <th>...</th>\n",
       "      <td>...</td>\n",
       "      <td>...</td>\n",
       "    </tr>\n",
       "    <tr>\n",
       "      <th>100107</th>\n",
       "      <td>7AD61EF8-B9FB-4F4F-9395-9C776C87F958</td>\n",
       "      <td>0</td>\n",
       "    </tr>\n",
       "    <tr>\n",
       "      <th>100108</th>\n",
       "      <td>5A65EF61-BDF6-482C-B163-29580509D25B</td>\n",
       "      <td>0</td>\n",
       "    </tr>\n",
       "    <tr>\n",
       "      <th>100109</th>\n",
       "      <td>F96CAD07-CF84-4899-961F-17DC5EE96F03</td>\n",
       "      <td>1</td>\n",
       "    </tr>\n",
       "    <tr>\n",
       "      <th>100110</th>\n",
       "      <td>61F73A0D-8731-410E-AC49-84C3BDECDB73</td>\n",
       "      <td>0</td>\n",
       "    </tr>\n",
       "    <tr>\n",
       "      <th>100111</th>\n",
       "      <td>CC2E6FE6-80EB-4997-AB11-BA2873437E3E</td>\n",
       "      <td>1</td>\n",
       "    </tr>\n",
       "  </tbody>\n",
       "</table>\n",
       "<p>100112 rows × 2 columns</p>\n",
       "</div>"
      ],
      "text/plain": [
       "                                      MailID  Opened\n",
       "0       43F37954-24F6-4F2E-BEC7-B6F0103307A0       0\n",
       "1       1CCDF694-BB52-4EB4-8C5A-669BB4D0339E       0\n",
       "2       EDC436A8-B8B0-4B57-B003-54FF51C09E82       0\n",
       "3       27378C7B-B5EB-4E48-93ED-EE2F16B83DB8       0\n",
       "4       6F5CC7DC-BDA8-4FCB-992C-1550C8C6DFC1       0\n",
       "...                                      ...     ...\n",
       "100107  7AD61EF8-B9FB-4F4F-9395-9C776C87F958       0\n",
       "100108  5A65EF61-BDF6-482C-B163-29580509D25B       0\n",
       "100109  F96CAD07-CF84-4899-961F-17DC5EE96F03       1\n",
       "100110  61F73A0D-8731-410E-AC49-84C3BDECDB73       0\n",
       "100111  CC2E6FE6-80EB-4997-AB11-BA2873437E3E       1\n",
       "\n",
       "[100112 rows x 2 columns]"
      ]
     },
     "execution_count": 16,
     "metadata": {},
     "output_type": "execute_result"
    }
   ],
   "source": [
    "sub = pd.read_csv('data/email_best_send_time_sample_submission.csv')\n",
    "sub['Opened'] = (prediction > treshold).astype(int)\n",
    "sub.to_csv('sub_rf_final.csv', index=False)\n",
    "sub"
   ]
  },
  {
   "cell_type": "code",
   "execution_count": 17,
   "metadata": {},
   "outputs": [
    {
     "data": {
      "text/plain": [
       "0.33340658462521977"
      ]
     },
     "execution_count": 17,
     "metadata": {},
     "output_type": "execute_result"
    }
   ],
   "source": [
    "sub['Opened'].mean()"
   ]
  },
  {
   "cell_type": "code",
   "execution_count": 18,
   "metadata": {},
   "outputs": [
    {
     "data": {
      "text/plain": [
       "0.31730308355967407"
      ]
     },
     "execution_count": 18,
     "metadata": {},
     "output_type": "execute_result"
    }
   ],
   "source": [
    "train['Opened'].mean()"
   ]
  }
 ],
 "metadata": {
  "kernelspec": {
   "display_name": "Python 3",
   "language": "python",
   "name": "python3"
  },
  "language_info": {
   "codemirror_mode": {
    "name": "ipython",
    "version": 3
   },
   "file_extension": ".py",
   "mimetype": "text/x-python",
   "name": "python",
   "nbconvert_exporter": "python",
   "pygments_lexer": "ipython3",
   "version": "3.8.10"
  }
 },
 "nbformat": 4,
 "nbformat_minor": 4
}
